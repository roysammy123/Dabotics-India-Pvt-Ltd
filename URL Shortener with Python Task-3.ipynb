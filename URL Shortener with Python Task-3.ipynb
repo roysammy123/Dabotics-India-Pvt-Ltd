{
 "cells": [
  {
   "cell_type": "code",
   "execution_count": 1,
   "id": "4c679967",
   "metadata": {},
   "outputs": [
    {
     "name": "stdout",
     "output_type": "stream",
     "text": [
      "Enter the URL to be shortened: https://www.youtube.com/\n",
      "Shortened URL: http://tinyurl.com/6gvvov\n"
     ]
    }
   ],
   "source": [
    "import pyshorteners\n",
    "\n",
    "def shorten_url(url):\n",
    "    s = pyshorteners.Shortener()\n",
    "    return s.tinyurl.short(url)\n",
    "\n",
    "if __name__ == \"__main__\":\n",
    "    url_to_shorten = input(\"Enter the URL to be shortened: \")\n",
    "    print(\"Shortened URL:\", shorten_url(url_to_shorten))\n"
   ]
  }
 ],
 "metadata": {
  "kernelspec": {
   "display_name": "Python 3 (ipykernel)",
   "language": "python",
   "name": "python3"
  },
  "language_info": {
   "codemirror_mode": {
    "name": "ipython",
    "version": 3
   },
   "file_extension": ".py",
   "mimetype": "text/x-python",
   "name": "python",
   "nbconvert_exporter": "python",
   "pygments_lexer": "ipython3",
   "version": "3.11.4"
  }
 },
 "nbformat": 4,
 "nbformat_minor": 5
}
